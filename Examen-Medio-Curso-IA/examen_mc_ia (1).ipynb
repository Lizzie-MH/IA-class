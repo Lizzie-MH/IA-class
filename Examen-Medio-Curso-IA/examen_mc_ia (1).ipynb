{
  "nbformat": 4,
  "nbformat_minor": 0,
  "metadata": {
    "colab": {
      "name": "examen mc ia.ipynb",
      "provenance": []
    },
    "kernelspec": {
      "name": "python3",
      "display_name": "Python 3"
    },
    "language_info": {
      "name": "python"
    }
  },
  "cells": [
    {
      "cell_type": "markdown",
      "metadata": {
        "id": "CXG1_ip9e5X9"
      },
      "source": [
        "Laura Elizabeth Martínez Hernández 1841866\n",
        "\n",
        "---\n",
        "\n"
      ]
    },
    {
      "cell_type": "markdown",
      "metadata": {
        "id": "ngPp4EaMe5OW"
      },
      "source": [
        "Ejericio 1\n",
        "\n",
        "\n",
        "---\n",
        "\n"
      ]
    },
    {
      "cell_type": "code",
      "metadata": {
        "colab": {
          "base_uri": "https://localhost:8080/"
        },
        "id": "pBSQEdQYNsyC",
        "outputId": "d08c0555-a176-47ec-ea03-6b8647abf660"
      },
      "source": [
        "ex_lista = [10, 15, 17, 21, 22, 34, 37, 40, 45, 52, 66, 68, 81, 84, 91, 94, 102, 105, 109]\n",
        "\n",
        "def extraer_nones(lista):\n",
        "  nones=[]\n",
        "\n",
        "  for x in ex_lista:\n",
        "    if x%2!= 0:\n",
        "      nones.append(x)\n",
        "\n",
        "  return nones\n",
        "print()\n",
        "resultado = extraer_nones(lista)\n",
        "\n",
        "print(f\"La lista original es la siguiente: {ex_lista}\")\n",
        "print(f\"Esta es la lista después de extraer los números pares: {resultado}\")"
      ],
      "execution_count": 8,
      "outputs": [
        {
          "output_type": "stream",
          "name": "stdout",
          "text": [
            "\n",
            "La lista original es la siguiente: [10, 15, 17, 21, 22, 34, 37, 40, 45, 52, 66, 68, 81, 84, 91, 94, 102, 105, 109]\n",
            "Esta es la lista después de extraer los números pares: [15, 17, 21, 37, 45, 81, 91, 105, 109]\n"
          ]
        }
      ]
    },
    {
      "cell_type": "markdown",
      "metadata": {
        "id": "G2YCUPmEPS_u"
      },
      "source": [
        "Ejercicio 2\n",
        "\n",
        "---\n",
        "\n",
        "\n",
        "\n"
      ]
    },
    {
      "cell_type": "code",
      "metadata": {
        "colab": {
          "base_uri": "https://localhost:8080/"
        },
        "id": "9RZCOsePPWst",
        "outputId": "60f21c9b-a447-40f6-a78d-864a7c7d9495"
      },
      "source": [
        "print(\"Ingresa tu top 5 de películas favoritas de la más favorita a la menos favorita\")\n",
        "\n",
        "top1= input(\"Ingresa la primera película:  \") \n",
        "top2= input(\"Ingresa la segunda película:  \") \n",
        "top3= input(\"Ingresa la tercera película:  \") \n",
        "top4= input(\"Ingresa la cuarta película:  \")\n",
        "top5= input(\"Ingresa la quinta película:  \") \n",
        "\n",
        "lista = [top1, top2, top3, top4, top5]\n",
        "n=1\n",
        "\n",
        "for x in lista:\n",
        "  print(f\"La pelicula {x}\"+ f\"  esta en el puesto {n} de mi top 5\")\n",
        "  print()\n",
        "  n = n+1\n"
      ],
      "execution_count": 43,
      "outputs": [
        {
          "output_type": "stream",
          "name": "stdout",
          "text": [
            "Ingresa tu top 5 de películas favoritas de la más favorita a la menos favorita\n",
            "Ingresa la primera película:  love rosie\n",
            "Ingresa la segunda película:  Cazadores de sombras: Ciudad de hueso\n",
            "Ingresa la tercera película:  Buscando a Alaska\n",
            "Ingresa la cuarta película:  Las ventajas de ser invisible\n",
            "Ingresa la quinta película:  Rebelde sin causa\n",
            "La pelicula love rosie  esta en el puesto 1 de mi top 5\n",
            "\n",
            "La pelicula Cazadores de sombras: Ciudad de hueso  esta en el puesto 2 de mi top 5\n",
            "\n",
            "La pelicula Buscando a Alaska  esta en el puesto 3 de mi top 5\n",
            "\n",
            "La pelicula Las ventajas de ser invisible  esta en el puesto 4 de mi top 5\n",
            "\n",
            "La pelicula Rebelde sin causa  esta en el puesto 5 de mi top 5\n",
            "\n"
          ]
        }
      ]
    }
  ]
}