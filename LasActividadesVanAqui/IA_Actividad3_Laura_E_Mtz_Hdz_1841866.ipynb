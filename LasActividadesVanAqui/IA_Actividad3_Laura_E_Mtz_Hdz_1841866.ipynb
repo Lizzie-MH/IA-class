{
  "nbformat": 4,
  "nbformat_minor": 0,
  "metadata": {
    "colab": {
      "name": "IA_Actividad3_Laura_E_Mtz_Hdz_1841866",
      "provenance": []
    },
    "kernelspec": {
      "name": "python3",
      "display_name": "Python 3"
    },
    "language_info": {
      "name": "python"
    }
  },
  "cells": [
    {
      "cell_type": "markdown",
      "metadata": {
        "id": "zXlLmappW8aR"
      },
      "source": [
        "**Actividad 3.-** Ejercicios Introducción Python, 2da parte\n",
        "\n",
        "**Nombre:** Laura Elizabeth Martínez Hernández\n",
        "\n",
        "**Matrícula**: 1841866 **Hora clase:** N4N5N6"
      ]
    },
    {
      "cell_type": "markdown",
      "metadata": {
        "id": "MByfR-SvXLi_"
      },
      "source": [
        "\n",
        "\n",
        "---\n",
        "\n",
        "\n",
        "**Ejercicio 1.1**\n",
        "\n",
        "\n",
        "---\n",
        "\n",
        "\n",
        " Piensa en 7 comidas diferente que te gusten. Implementa un programa que pregunte por las 7 comidas, las almacene en una lista y que posteriermente imprima cada una de ellas utilizando uno de los ciclos comentados en clase. "
      ]
    },
    {
      "cell_type": "code",
      "metadata": {
        "colab": {
          "base_uri": "https://localhost:8080/"
        },
        "id": "lIjH-MR1XUVP",
        "outputId": "515abac9-ed39-4cad-ceec-02d69e143325"
      },
      "source": [
        "first= input(\"Ingresa una comida que te guste:  \") #comida uno\n",
        "second= input(\"Ingresa una comida que te guste:  \") #comida dos\n",
        "third= input(\"Ingresa una comida que te guste:  \") #comida tres\n",
        "fourth= input(\"Ingresa una comida que te guste:  \") #comida cuatro\n",
        "fifth= input(\"Ingresa una comida que te guste:  \") #comida cinco\n",
        "sixth= input(\"Ingresa una comida que te guste:  \") #comida seis\n",
        "seventh= input(\"Ingresa una comida que te guste:  \") #comida siete\n",
        "\n",
        "lista = [first, second, third, fourth, fifth, sixth, seventh]\n",
        "\n",
        "for x in lista: \n",
        "  print(x)#se imprime cada uno de los elementos de la lista"
      ],
      "execution_count": 23,
      "outputs": [
        {
          "output_type": "stream",
          "name": "stdout",
          "text": [
            "Ingresa una comida que te guste:  Papa asada\n",
            "Ingresa una comida que te guste:  Chilaquiles\n",
            "Ingresa una comida que te guste:  Tostitos con elote y mucha salsa\n",
            "Ingresa una comida que te guste:  Tamales veracruzanos\n",
            "Ingresa una comida que te guste:  Zacahuil\n",
            "Ingresa una comida que te guste:  Chicarrón prensado guisado\n",
            "Ingresa una comida que te guste:  Tacos\n",
            "Papa asada\n",
            "Chilaquiles\n",
            "Tostitos con elote y mucha salsa\n",
            "Tamales veracruzanos\n",
            "Zacahuil\n",
            "Chicarrón prensado guisado\n",
            "Tacos\n"
          ]
        }
      ]
    },
    {
      "cell_type": "markdown",
      "metadata": {
        "id": "Ptto1Qvwbcfv"
      },
      "source": [
        "\n",
        "\n",
        "---\n",
        "\n",
        "\n",
        "**Ejercicio 1.2**\n",
        "\n",
        "---\n",
        " Modifica el ejercicio 1.1 para que imprima cada una de las comidas favoritas junto con una oracición inicial: \"Una de mis comidas favoritas es [comida1]\".  "
      ]
    },
    {
      "cell_type": "code",
      "metadata": {
        "colab": {
          "base_uri": "https://localhost:8080/"
        },
        "id": "3PdQ5EoFb2S4",
        "outputId": "4ad3bc0e-130c-45cd-c7f5-6d113effce15"
      },
      "source": [
        "first= input(\"Ingresa una comida que te guste:  \") #comida uno\n",
        "second= input(\"Ingresa una comida que te guste:  \") #comida dos\n",
        "third= input(\"Ingresa una comida que te guste:  \") #comida tres\n",
        "fourth= input(\"Ingresa una comida que te guste:  \") #comida cuatro\n",
        "fifth= input(\"Ingresa una comida que te guste:  \") #comida cinco\n",
        "sixth= input(\"Ingresa una comida que te guste:  \") #comida seis\n",
        "seventh= input(\"Ingresa una comida que te guste:  \") #comida siete\n",
        "\n",
        "lista = [first, second, third, fourth, fifth, sixth, seventh]\n",
        "\n",
        "for x in lista: \n",
        "  print(f\"\\nUna de mis comidas favoritas es {x}\")#se imprime cada uno de los elementos de la lista después de la oración"
      ],
      "execution_count": 38,
      "outputs": [
        {
          "output_type": "stream",
          "name": "stdout",
          "text": [
            "Ingresa una comida que te guste:  Papa asada\n",
            "Ingresa una comida que te guste:  Chilaquiles\n",
            "Ingresa una comida que te guste:  Tostitos con elote y mucha salsa\n",
            "Ingresa una comida que te guste:  Tamales veracruzanos\n",
            "Ingresa una comida que te guste:  Zacahuil\n",
            "Ingresa una comida que te guste:  Chicharrón prensado guisado\n",
            "Ingresa una comida que te guste:  Tacos\n",
            "\n",
            "Una de mis comidas favoritas es Papa asada\n",
            "\n",
            "Una de mis comidas favoritas es Chilaquiles\n",
            "\n",
            "Una de mis comidas favoritas es Tostitos con elote y mucha salsa\n",
            "\n",
            "Una de mis comidas favoritas es Tamales veracruzanos\n",
            "\n",
            "Una de mis comidas favoritas es Zacahuil\n",
            "\n",
            "Una de mis comidas favoritas es Chicharrón prensado guisado\n",
            "\n",
            "Una de mis comidas favoritas es Tacos\n"
          ]
        }
      ]
    },
    {
      "cell_type": "markdown",
      "metadata": {
        "id": "4D91I3hpdLUg"
      },
      "source": [
        "\n",
        "\n",
        "---\n",
        "\n",
        "\n",
        "**Ejercicio 2**\n",
        "\n",
        "---\n",
        "Crear un juego de piedra, papel o tijera de dos jugadores. El programa preguntará por la opción del jugador 1 y la opción del jugador 2 y dará como resultado quien ganó el juego. "
      ]
    },
    {
      "cell_type": "code",
      "metadata": {
        "colab": {
          "base_uri": "https://localhost:8080/"
        },
        "id": "jYvLdesUdS0o",
        "outputId": "14a7936a-69dd-488d-8fb5-98bec62ae62c"
      },
      "source": [
        "opciones= [\"piedra\", \"papel\", \"tijera\"]\n",
        "player1 = input(\"Jugador 1: ¿piedra, papel o tijera?:  \")\n",
        "player2 = input(\"Jugador 2: ¿piedra, papel o tijera?:  \")\n",
        "\n",
        "if player1== \"piedra\" and player2== \"piedra\":\n",
        "  print(f\"empate\")\n",
        "if player1==\"papel\" and player2==\"papel\":\n",
        "  print(f\"empate\")\n",
        "if player1==\"tijera\" and player2==\"tijera\":\n",
        "  print(f\"empate\")\n",
        "if player1==\"piedra\" and player2==\"papel\":\n",
        "  print(f\"gana el jugador 1\")\n",
        "if player1==\"piedra\" and player2==\"tijera\":\n",
        "  print(f\"gana el jugador 1\")\n",
        "if player1==\"tijera\" and player2==\"papel\":\n",
        "  print(f\"gana el jugador 1\")\n",
        "if player1==\"papel\" and player2==\"tijera\":\n",
        "  print(f\"gana el jugador 2\")\n",
        "if player1==\"papel\" and player2==\"piedra\":\n",
        "  print(f\"gana el jugador 2\")\n",
        "if player1==\"tijera\" and player2==\"piedra\":\n",
        "  print(f\"gana el jugador 2\")"
      ],
      "execution_count": 36,
      "outputs": [
        {
          "output_type": "stream",
          "name": "stdout",
          "text": [
            "Jugador 1: ¿piedra, papel o tijera?:  piedra\n",
            "Jugador 2: ¿piedra, papel o tijera?:  tijera\n",
            "gana el jugador 1\n"
          ]
        }
      ]
    },
    {
      "cell_type": "markdown",
      "metadata": {
        "id": "69-6-x8Cn_cb"
      },
      "source": [
        "\n",
        "\n",
        "---\n",
        "\n",
        "\n",
        "**Ejercicio 3**\n",
        "\n",
        "\n",
        "---\n",
        "\n",
        "\n",
        "Implementar un programa que imprima el siguiente patron:\n",
        "\n",
        "123456\n",
        "12345\n",
        "1234\n",
        "123\n",
        "12\n",
        "1\n",
        "12\n",
        "123\n",
        "1234\n",
        "12345\n",
        "123456"
      ]
    },
    {
      "cell_type": "code",
      "metadata": {
        "colab": {
          "base_uri": "https://localhost:8080/"
        },
        "id": "bMihbeW0oqHb",
        "outputId": "cc9428e1-ad37-4d1f-d8a8-b4deb6d6c6a9"
      },
      "source": [
        "num= [1,2,3,4,5,6]\n",
        "\n",
        "print(num)\n",
        "print(num[:5])\n",
        "print(num[:4])\n",
        "print(num[:3])\n",
        "print(num[:2]) \n",
        "print(num[0])\n",
        "print(num[:2])\n",
        "print(num[:3])\n",
        "print(num[:4])\n",
        "print(num[:5])\n",
        "print(num)"
      ],
      "execution_count": 37,
      "outputs": [
        {
          "output_type": "stream",
          "name": "stdout",
          "text": [
            "[1, 2, 3, 4, 5, 6]\n",
            "[1, 2, 3, 4, 5]\n",
            "[1, 2, 3, 4]\n",
            "[1, 2, 3]\n",
            "[1, 2]\n",
            "1\n",
            "[1, 2]\n",
            "[1, 2, 3]\n",
            "[1, 2, 3, 4]\n",
            "[1, 2, 3, 4, 5]\n",
            "[1, 2, 3, 4, 5, 6]\n"
          ]
        }
      ]
    }
  ]
}