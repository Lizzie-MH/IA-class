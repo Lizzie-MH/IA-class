{
  "nbformat": 4,
  "nbformat_minor": 0,
  "metadata": {
    "colab": {
      "name": "IA_Actividad2_Laura E. Mtz Hdz_1841866",
      "provenance": []
    },
    "kernelspec": {
      "name": "python3",
      "display_name": "Python 3"
    },
    "language_info": {
      "name": "python"
    }
  },
  "cells": [
    {
      "cell_type": "markdown",
      "metadata": {
        "id": "BfLRgGp07J9n"
      },
      "source": [
        "\n",
        "**Actividad 2.-** Ejercicios Introducción Python\n",
        "\n",
        "**Nombre:** Laura Elizabeth Martínez Hernández\n",
        "\n",
        "**Matrícula**: 1841866 **Hora clase:** N4N5N6"
      ]
    },
    {
      "cell_type": "markdown",
      "metadata": {
        "id": "LWsSe5_lyBbY"
      },
      "source": [
        "# **Ejercicio 1:**\n",
        "\n",
        "Crear un programa que pregunte al usuario por su nombre, edad, una frase favorita y autor de la frase favorita. El programa deberá de imprimir un mensaje compuesto por el nombre y edad del usuario diciendo que su frase favorita es la que dió anteriormente y el autor de dicha frase es el nombre previamente dado. \n",
        "\n",
        "---"
      ]
    },
    {
      "cell_type": "code",
      "metadata": {
        "id": "XXE9WaEX6qun",
        "colab": {
          "base_uri": "https://localhost:8080/"
        },
        "outputId": "8feef59d-9e9e-4671-9e99-bdab4a48f6c1"
      },
      "source": [
        "#aqui le pido al usuario que conteste unas preguntas\n",
        "nombre= input(\"¿Cuál es tu nombre?  \")\n",
        "edad= input(\"¿Cuántos años tienes?  \") #numero (sin la palabra años)\n",
        "frase= input(\"¿Cuál es tu frase favorita?  \")\n",
        "autor= input (\"¿Quién es el autor de la frase?  \")\n",
        "\n",
        "print(f\"Mi nombre es {nombre}, tengo {edad} años y mi frase favorita es {frase}, su autor es {autor}. \")"
      ],
      "execution_count": null,
      "outputs": [
        {
          "output_type": "stream",
          "name": "stdout",
          "text": [
            "¿Cuál es tu nombre?  Laura\n",
            "¿Cuántos años tienes?  20\n",
            "¿Cuál es tu frase favorita?   born to die\n",
            "¿Quién es el autor de la frase?  Lana del Rey\n",
            "Mi nombre es Laura, tengo 20 años y mi frase favorita es  born to die, su autor es Lana del Rey. \n"
          ]
        }
      ]
    },
    {
      "cell_type": "markdown",
      "metadata": {
        "id": "oJDHQvVA2UH_"
      },
      "source": [
        "# **Ejercicio 2:**\n",
        "\n",
        "Crear un programa que le pida al usuario capturar dos números enteros y dos números flotantes. Después, realizará la suma, resta, multiplicación y división, de ambos pares de números. Como resultado se deberán de obtener 8 valores. Imprimir todos estos resultados.\n",
        "\n",
        "---"
      ]
    },
    {
      "cell_type": "code",
      "metadata": {
        "colab": {
          "base_uri": "https://localhost:8080/"
        },
        "id": "jL3xB48M2b1O",
        "outputId": "ad8ccee6-ca05-4df0-ead3-b751ecf5f751"
      },
      "source": [
        "x= int(input(\"Digite un número entero: \")) #numero entero 1\n",
        "y= int(input(\"Digite otro número entero: \")) #numero entero 2\n",
        "m= float(input(\"Digite un número con decimal(es): \")) #numero decimal 1\n",
        "n= float(input(\"Digite otro número con decimal(es): \")) #numero decimal 2\n",
        "\n",
        "sumaInt= x+y\n",
        "restaInt= x-y\n",
        "multInt= x*y\n",
        "divInt= x/y\n",
        "print(f\"Los números enteros elegidos fueron {x} y {y}. La suma de {x}+{y} es {sumaInt}, la resta de {x}-{y} es {restaInt}, la multiplicación de ({x})({y}) es {multInt} y la división de {x}/{y} es {divInt} \")\n",
        "\n",
        "sumaf= m+n\n",
        "restaf= m-n\n",
        "multf= m*n\n",
        "divf=m/n\n",
        "print(f\"Los números decimales elegidos fueron {m} y {n}. La suma de {m}+{n} es {sumaf}, la resta de {m}-{n} es {restaf}, la multiplicación de ({m})({n}) es {multf} y la división de {m}/{n} es {divf} \")"
      ],
      "execution_count": null,
      "outputs": [
        {
          "output_type": "stream",
          "name": "stdout",
          "text": [
            "Digite un número entero: 13\n",
            "Digite otro número entero: 96\n",
            "Digite un número con decimal(es): 2.154\n",
            "Digite otro número con decimal(es): 16.845\n",
            "Los números enteros elegidos fueron 13 y 96. La suma de 13+96 es 109, la resta de 13-96 es -83, la multiplicación de (13)(96) es 1248 y la división de 13/96 es 0.13541666666666666 \n",
            "Los números decimales elegidos fueron 2.154 y 16.845. La suma de 2.154+16.845 es 18.999, la resta de 2.154-16.845 es -14.690999999999999, la multiplicación de (2.154)(16.845) es 36.28413 y la división de 2.154/16.845 es 0.12787177203918076 \n"
          ]
        }
      ]
    },
    {
      "cell_type": "markdown",
      "metadata": {
        "id": "My44qEN83wvw"
      },
      "source": [
        "# **Ejercicio 3:**\n",
        "\n",
        "Crear un programa que evalúe dos expresiones lógicas con `and`, dos con `or` y dos con `not`. Cada expresión deberá hacer uso de operadores de comparación. \n",
        "\n",
        "---"
      ]
    },
    {
      "cell_type": "code",
      "metadata": {
        "colab": {
          "base_uri": "https://localhost:8080/"
        },
        "id": "CthRjw3Lb6Tc",
        "outputId": "5888f2ab-afaa-430a-b657-2f4cfb9c80cd"
      },
      "source": [
        "#comparacion con and\n",
        "w= float(input(\"Digite un número:  \")) #le pido al usuario que me de un numero entero o decimal\n",
        "print(1<w and 20>w)\n",
        "print(80<=w and 17!=w)\n",
        "\n",
        "#comparacion con or\n",
        "j= float(input(\"Digite un número:  \")) #le pido al usuario que me de un numero entero o decimal\n",
        "print(7<j or 40>j)\n",
        "print(-2<j or 13>j)\n",
        "\n",
        "#comparacion con not\n",
        "s=float(input(\"Digite un número:  \")) #le pido al usuario que me de un numero entero o decimal\n",
        "print(not 33>=s)\n",
        "print(not 14==s)\n"
      ],
      "execution_count": null,
      "outputs": [
        {
          "output_type": "stream",
          "name": "stdout",
          "text": [
            "Digite un número:  33\n",
            "False\n",
            "False\n",
            "Digite un número:  20\n",
            "True\n",
            "True\n",
            "Digite un número:  58\n",
            "True\n",
            "True\n"
          ]
        }
      ]
    }
  ]
}